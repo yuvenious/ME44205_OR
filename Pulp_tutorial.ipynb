{
 "cells": [
  {
   "cell_type": "code",
   "execution_count": 1,
   "metadata": {},
   "outputs": [],
   "source": [
    "from pulp import *"
   ]
  },
  {
   "cell_type": "markdown",
   "metadata": {},
   "source": [
    "## Wyndor Glass Problem\n",
    "**how to maximize\n",
    "\n",
    "- objective function:\n",
    "    - Z = 3x1 + 5x2\n",
    "\n",
    "- 2 products (x1, x2)\n",
    "    - windows: 5000\\$ (1hour in plant1, 3hours in plant3)\n",
    "    - doors: 3000\\$ (2hour in plant2, 2hours in plant3)\n",
    "- 3 plants (limited capacity)\n",
    "    - AL frames: 4hours\n",
    "    - Wooden frames: 12hours\n",
    "    - glass + assembles: 18hours\n",
    "- Constraints\n",
    "    - x1 <= 4\n",
    "    - 2x2 <= 12\n",
    "    - 3x1 + 2x2 <= 18"
   ]
  },
  {
   "cell_type": "code",
   "execution_count": 2,
   "metadata": {},
   "outputs": [],
   "source": [
    "prob = LpProblem(\"WyndorGlass\", LpMaximize)\n",
    "x1 = LpVariable(\"Window\", lowBound=0, upBound=None, cat=LpInteger)\n",
    "x2 = LpVariable(\"Door\", lowBound=0, upBound=None, cat=LpInteger)\n",
    "prob += 3*x1 + 5*x2\n",
    "prob += x1 <= 4\n",
    "prob += 2*x2 <= 12\n",
    "prob += 3*x1 + 2*x2 <= 18"
   ]
  },
  {
   "cell_type": "code",
   "execution_count": 3,
   "metadata": {},
   "outputs": [
    {
     "data": {
      "text/plain": [
       "'Optimal'"
      ]
     },
     "execution_count": 3,
     "metadata": {},
     "output_type": "execute_result"
    }
   ],
   "source": [
    "prob.solve()\n",
    "LpStatus[prob.status]"
   ]
  },
  {
   "cell_type": "code",
   "execution_count": 4,
   "metadata": {},
   "outputs": [
    {
     "name": "stdout",
     "output_type": "stream",
     "text": [
      "Door 6.0\n",
      "Window 2.0\n"
     ]
    }
   ],
   "source": [
    "for v in prob.variables():\n",
    "    print(v.name, v.varValue)"
   ]
  },
  {
   "cell_type": "code",
   "execution_count": 5,
   "metadata": {},
   "outputs": [
    {
     "name": "stdout",
     "output_type": "stream",
     "text": [
      "Max. Total Profit: 36.0\n"
     ]
    }
   ],
   "source": [
    "print(\"Max. Total Profit:\", prob.objective.value())"
   ]
  },
  {
   "cell_type": "markdown",
   "metadata": {},
   "source": [
    "## Production Problem\n",
    "**How to maximize the profit, given that:**\n",
    "\n",
    "- Company may produce Product A and B\n",
    "- Product A and B give profits, 7 and 4 respectively\n",
    "- Electricity and Gas are required\n",
    "    - A: 30 Electricity, 2 Gas\n",
    "    - B: 20 Electricity, 1 Gas\n",
    "- Available Electricity and Gas are 150 and 9 respectively"
   ]
  },
  {
   "cell_type": "code",
   "execution_count": 6,
   "metadata": {},
   "outputs": [],
   "source": [
    "# define problem\n",
    "prob = LpProblem(\"Elec Gas Problem\", LpMaximize)"
   ]
  },
  {
   "cell_type": "code",
   "execution_count": 7,
   "metadata": {},
   "outputs": [],
   "source": [
    "# define variables\n",
    "x1 = LpVariable(\"Product A\", lowBound=0, upBound=None, cat=LpInteger)\n",
    "x2 = LpVariable(\"Product B\", lowBound=0, upBound=None, cat=LpInteger)"
   ]
  },
  {
   "cell_type": "code",
   "execution_count": 8,
   "metadata": {},
   "outputs": [],
   "source": [
    "# define objective function\n",
    "prob += 7*x1 + 4*x2, \"Total Profit\""
   ]
  },
  {
   "cell_type": "code",
   "execution_count": 9,
   "metadata": {},
   "outputs": [],
   "source": [
    "# define constraints\n",
    "prob += 30*x1 + 20*x2 <= 150, \"Max Electricity\"\n",
    "prob += 2*x1 + 1*x2 <= 9, \"Max Gas\""
   ]
  },
  {
   "cell_type": "code",
   "execution_count": 10,
   "metadata": {},
   "outputs": [
    {
     "data": {
      "text/plain": [
       "'Optimal'"
      ]
     },
     "execution_count": 10,
     "metadata": {},
     "output_type": "execute_result"
    }
   ],
   "source": [
    "# solve\n",
    "prob.solve()\n",
    "LpStatus[prob.status]"
   ]
  },
  {
   "cell_type": "code",
   "execution_count": 11,
   "metadata": {},
   "outputs": [
    {
     "name": "stdout",
     "output_type": "stream",
     "text": [
      "Product_A : 3.0\n",
      "Product_B : 3.0\n"
     ]
    }
   ],
   "source": [
    "for v in prob.variables():\n",
    "    print(v.name, \":\", v.varValue)"
   ]
  },
  {
   "cell_type": "code",
   "execution_count": 12,
   "metadata": {},
   "outputs": [
    {
     "name": "stdout",
     "output_type": "stream",
     "text": [
      "Max. Total Profit: 33.0\n"
     ]
    }
   ],
   "source": [
    "print(\"Max. Total Profit:\", prob.objective.value())"
   ]
  },
  {
   "cell_type": "markdown",
   "metadata": {},
   "source": [
    "## Bus Driver Problem\n",
    "**How to Minimize the number of drivers?**"
   ]
  },
  {
   "cell_type": "code",
   "execution_count": 13,
   "metadata": {},
   "outputs": [],
   "source": [
    "import matplotlib.pyplot as plt\n",
    "import seaborn as sns\n",
    "\n",
    "%matplotlib inline"
   ]
  },
  {
   "cell_type": "code",
   "execution_count": 14,
   "metadata": {},
   "outputs": [
    {
     "data": {
      "image/png": "[encoded data removed]",
      "text/plain": [
       "<Figure size 432x288 with 1 Axes>"
      ]
     },
     "metadata": {},
     "output_type": "display_data"
    }
   ],
   "source": [
    "x = [0,4,8,12,16,20,24]\n",
    "y = [4,4,8,10,7,12,4]\n",
    "plt.plot(x,y,ls=\"steps\")\n",
    "plt.xlim(min(x), max(x))\n",
    "plt.xticks(x)\n",
    "plt.xlabel(\"HOURS\")\n",
    "plt.ylim(0,max(y)+2)\n",
    "plt.ylabel(\"# Bus\")\n",
    "plt.title(\"Daily Required Buses over 24H\")\n",
    "plt.grid()"
   ]
  },
  {
   "cell_type": "code",
   "execution_count": 15,
   "metadata": {},
   "outputs": [],
   "source": [
    "# Define Problem\n",
    "prob = LpProblem(\"Bus Scheduling\", LpMinimize)"
   ]
  },
  {
   "cell_type": "code",
   "execution_count": 16,
   "metadata": {},
   "outputs": [
    {
     "data": {
      "text/plain": [
       "[Num_of_Drivers_in_time_0,\n",
       " Num_of_Drivers_in_time_4,\n",
       " Num_of_Drivers_in_time_8,\n",
       " Num_of_Drivers_in_time_12,\n",
       " Num_of_Drivers_in_time_16,\n",
       " Num_of_Drivers_in_time_20]"
      ]
     },
     "execution_count": 16,
     "metadata": {},
     "output_type": "execute_result"
    }
   ],
   "source": [
    "# Define 6 variables\n",
    "time_frame = x\n",
    "lpvars = []\n",
    "for time in time_frame[:-1]:\n",
    "    x = LpVariable(name=\"Num of Drivers in time %s\"%time,\n",
    "                   lowBound=0, upBound=None,\n",
    "                   cat=LpInteger)\n",
    "    lpvars.append(x)\n",
    "lpvars"
   ]
  },
  {
   "cell_type": "code",
   "execution_count": 17,
   "metadata": {},
   "outputs": [],
   "source": [
    "# Define Objective Functions\n",
    "prob += sum(lpvars), \"Total Costs\""
   ]
  },
  {
   "cell_type": "code",
   "execution_count": 18,
   "metadata": {},
   "outputs": [
    {
     "data": {
      "text/plain": [
       "[4, 8, 10, 7, 12, 4]"
      ]
     },
     "execution_count": 18,
     "metadata": {},
     "output_type": "execute_result"
    }
   ],
   "source": [
    "bus_required = y[1:]\n",
    "bus_required"
   ]
  },
  {
   "cell_type": "markdown",
   "metadata": {},
   "source": [
    "**One the driver is placed, (s)he works for 8 hours**"
   ]
  },
  {
   "cell_type": "code",
   "execution_count": 19,
   "metadata": {},
   "outputs": [],
   "source": [
    "# Define Constraints\n",
    "for i, lpvar in enumerate(lpvars):\n",
    "    try: # driver at time 0 and 4 must cover the requirement of time 4 \n",
    "        Constraint = lpvars[i] + lpvars[i+1] >= bus_required[i+1]\n",
    "    except: # driver at time 20 and 24(0) must cover the requirement of time 24(0)\n",
    "        Constraint = lpvars[i] + lpvars[0] >= bus_required[0]\n",
    "    prob += Constraint"
   ]
  },
  {
   "cell_type": "code",
   "execution_count": 20,
   "metadata": {},
   "outputs": [
    {
     "data": {
      "text/plain": [
       "Bus Scheduling:\n",
       "MINIMIZE\n",
       "1*Num_of_Drivers_in_time_0 + 1*Num_of_Drivers_in_time_12 + 1*Num_of_Drivers_in_time_16 + 1*Num_of_Drivers_in_time_20 + 1*Num_of_Drivers_in_time_4 + 1*Num_of_Drivers_in_time_8 + 0\n",
       "SUBJECT TO\n",
       "_C1: Num_of_Drivers_in_time_0 + Num_of_Drivers_in_time_4 >= 8\n",
       "\n",
       "_C2: Num_of_Drivers_in_time_4 + Num_of_Drivers_in_time_8 >= 10\n",
       "\n",
       "_C3: Num_of_Drivers_in_time_12 + Num_of_Drivers_in_time_8 >= 7\n",
       "\n",
       "_C4: Num_of_Drivers_in_time_12 + Num_of_Drivers_in_time_16 >= 12\n",
       "\n",
       "_C5: Num_of_Drivers_in_time_16 + Num_of_Drivers_in_time_20 >= 4\n",
       "\n",
       "_C6: Num_of_Drivers_in_time_0 + Num_of_Drivers_in_time_20 >= 4\n",
       "\n",
       "VARIABLES\n",
       "0 <= Num_of_Drivers_in_time_0 Integer\n",
       "0 <= Num_of_Drivers_in_time_12 Integer\n",
       "0 <= Num_of_Drivers_in_time_16 Integer\n",
       "0 <= Num_of_Drivers_in_time_20 Integer\n",
       "0 <= Num_of_Drivers_in_time_4 Integer\n",
       "0 <= Num_of_Drivers_in_time_8 Integer"
      ]
     },
     "execution_count": 20,
     "metadata": {},
     "output_type": "execute_result"
    }
   ],
   "source": [
    "prob"
   ]
  },
  {
   "cell_type": "code",
   "execution_count": 21,
   "metadata": {},
   "outputs": [
    {
     "data": {
      "text/plain": [
       "'Optimal'"
      ]
     },
     "execution_count": 21,
     "metadata": {},
     "output_type": "execute_result"
    }
   ],
   "source": [
    "prob.solve()\n",
    "LpStatus[prob.status]"
   ]
  },
  {
   "cell_type": "code",
   "execution_count": 22,
   "metadata": {},
   "outputs": [
    {
     "name": "stdout",
     "output_type": "stream",
     "text": [
      "Num_of_Drivers_in_time_0 : 0.0\n",
      "Num_of_Drivers_in_time_12 : 12.0\n",
      "Num_of_Drivers_in_time_16 : 0.0\n",
      "Num_of_Drivers_in_time_20 : 4.0\n",
      "Num_of_Drivers_in_time_4 : 10.0\n",
      "Num_of_Drivers_in_time_8 : 0.0\n"
     ]
    }
   ],
   "source": [
    "for v in prob.variables():\n",
    "    print(v.name, \":\", v.value())"
   ]
  },
  {
   "cell_type": "code",
   "execution_count": 23,
   "metadata": {},
   "outputs": [
    {
     "data": {
      "text/plain": [
       "26.0"
      ]
     },
     "execution_count": 23,
     "metadata": {},
     "output_type": "execute_result"
    }
   ],
   "source": [
    "prob.objective.value()"
   ]
  }
 ],
 "metadata": {
  "kernelspec": {
   "display_name": "Python 3",
   "language": "python",
   "name": "python3"
  },
  "language_info": {
   "codemirror_mode": {
    "name": "ipython",
    "version": 3
   },
   "file_extension": ".py",
   "mimetype": "text/x-python",
   "name": "python",
   "nbconvert_exporter": "python",
   "pygments_lexer": "ipython3",
   "version": "3.6.5"
  }
 },
 "nbformat": 4,
 "nbformat_minor": 2
}
