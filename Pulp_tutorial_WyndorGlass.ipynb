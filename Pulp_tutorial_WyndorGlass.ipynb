{
 "cells": [
  {
   "cell_type": "code",
   "execution_count": 1,
   "metadata": {},
   "outputs": [],
   "source": [
    "from pulp import *"
   ]
  },
  {
   "cell_type": "markdown",
   "metadata": {},
   "source": [
    "## Wyndor Glass Problem\n",
    "This problem is derived from *Introduction to Operation Research* (by Hillier, F. S., & Lieberman, G. J) chapter 1. ([link](https://www.researchgate.net/publication/221704741_Introduction_To_Operations_Research))\n",
    "\n",
    "- objective function:\n",
    "    - Z = 3x1 + 5x2\n",
    "\n",
    "- 2 products (x1, x2)\n",
    "    - windows: 5000\\$ (1hour in plant1, 3hours in plant3)\n",
    "    - doors: 3000\\$ (2hour in plant2, 2hours in plant3)\n",
    "- 3 plants (limited capacity)\n",
    "    - AL frames: 4hours\n",
    "    - Wooden frames: 12hours\n",
    "    - glass + assembles: 18hours\n",
    "- Constraints\n",
    "    - x1 <= 4\n",
    "    - 2x2 <= 12\n",
    "    - 3x1 + 2x2 <= 18"
   ]
  },
  {
   "cell_type": "code",
   "execution_count": 2,
   "metadata": {},
   "outputs": [],
   "source": [
    "prob = LpProblem(\"WyndorGlass\", LpMaximize)\n",
    "x1 = LpVariable(\"Window\", lowBound=0, upBound=None, cat=LpInteger)\n",
    "x2 = LpVariable(\"Door\", lowBound=0, upBound=None, cat=LpInteger)\n",
    "prob += 3*x1 + 5*x2\n",
    "prob += x1 <= 4\n",
    "prob += 2*x2 <= 12\n",
    "prob += 3*x1 + 2*x2 <= 18"
   ]
  },
  {
   "cell_type": "code",
   "execution_count": 3,
   "metadata": {},
   "outputs": [
    {
     "data": {
      "text/plain": [
       "'Optimal'"
      ]
     },
     "execution_count": 3,
     "metadata": {},
     "output_type": "execute_result"
    }
   ],
   "source": [
    "prob.solve()\n",
    "LpStatus[prob.status]"
   ]
  },
  {
   "cell_type": "code",
   "execution_count": 4,
   "metadata": {},
   "outputs": [
    {
     "name": "stdout",
     "output_type": "stream",
     "text": [
      "Door 6.0\n",
      "Window 2.0\n"
     ]
    }
   ],
   "source": [
    "for v in prob.variables():\n",
    "    print(v.name, v.varValue)"
   ]
  },
  {
   "cell_type": "code",
   "execution_count": 5,
   "metadata": {},
   "outputs": [
    {
     "name": "stdout",
     "output_type": "stream",
     "text": [
      "Max. Total Profit: 36.0\n"
     ]
    }
   ],
   "source": [
    "print(\"Max. Total Profit:\", prob.objective.value())"
   ]
  }
 ],
 "metadata": {
  "kernelspec": {
   "display_name": "Python 3",
   "language": "python",
   "name": "python3"
  },
  "language_info": {
   "codemirror_mode": {
    "name": "ipython",
    "version": 3
   },
   "file_extension": ".py",
   "mimetype": "text/x-python",
   "name": "python",
   "nbconvert_exporter": "python",
   "pygments_lexer": "ipython3",
   "version": "3.6.5"
  }
 },
 "nbformat": 4,
 "nbformat_minor": 2
}
