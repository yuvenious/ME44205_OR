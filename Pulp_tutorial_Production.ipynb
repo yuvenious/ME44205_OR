{
 "cells": [
  {
   "cell_type": "code",
   "execution_count": 1,
   "metadata": {},
   "outputs": [],
   "source": [
    "from pulp import *"
   ]
  },
  {
   "cell_type": "markdown",
   "metadata": {},
   "source": [
    "## Production Problem\n",
    "**How to maximize the profit, given that:**\n",
    "\n",
    "- Company may produce Product A and B\n",
    "- Product A and B give profits, 7 and 4 respectively\n",
    "- Electricity and Gas are required\n",
    "    - A: 30 Electricity, 2 Gas\n",
    "    - B: 20 Electricity, 1 Gas\n",
    "- Available Electricity and Gas are 150 and 9 respectively"
   ]
  },
  {
   "cell_type": "code",
   "execution_count": 2,
   "metadata": {},
   "outputs": [],
   "source": [
    "# define problem\n",
    "prob = LpProblem(\"Elec Gas Problem\", LpMaximize)"
   ]
  },
  {
   "cell_type": "code",
   "execution_count": 3,
   "metadata": {},
   "outputs": [],
   "source": [
    "# define variables\n",
    "x1 = LpVariable(\"Product A\", lowBound=0, upBound=None, cat=LpInteger)\n",
    "x2 = LpVariable(\"Product B\", lowBound=0, upBound=None, cat=LpInteger)"
   ]
  },
  {
   "cell_type": "code",
   "execution_count": 4,
   "metadata": {},
   "outputs": [],
   "source": [
    "# define objective function\n",
    "prob += 7*x1 + 4*x2, \"Total Profit\""
   ]
  },
  {
   "cell_type": "code",
   "execution_count": 5,
   "metadata": {},
   "outputs": [],
   "source": [
    "# define constraints\n",
    "prob += 30*x1 + 20*x2 <= 150, \"Max Electricity\"\n",
    "prob += 2*x1 + 1*x2 <= 9, \"Max Gas\""
   ]
  },
  {
   "cell_type": "code",
   "execution_count": 6,
   "metadata": {},
   "outputs": [
    {
     "data": {
      "text/plain": [
       "'Optimal'"
      ]
     },
     "execution_count": 6,
     "metadata": {},
     "output_type": "execute_result"
    }
   ],
   "source": [
    "# solve\n",
    "prob.solve()\n",
    "LpStatus[prob.status]"
   ]
  },
  {
   "cell_type": "code",
   "execution_count": 7,
   "metadata": {},
   "outputs": [
    {
     "name": "stdout",
     "output_type": "stream",
     "text": [
      "Product_A : 3.0\n",
      "Product_B : 3.0\n"
     ]
    }
   ],
   "source": [
    "for v in prob.variables():\n",
    "    print(v.name, \":\", v.varValue)"
   ]
  },
  {
   "cell_type": "code",
   "execution_count": 8,
   "metadata": {},
   "outputs": [
    {
     "name": "stdout",
     "output_type": "stream",
     "text": [
      "Max. Total Profit: 33.0\n"
     ]
    }
   ],
   "source": [
    "print(\"Max. Total Profit:\", prob.objective.value())"
   ]
  }
 ],
 "metadata": {
  "kernelspec": {
   "display_name": "Python 3",
   "language": "python",
   "name": "python3"
  },
  "language_info": {
   "codemirror_mode": {
    "name": "ipython",
    "version": 3
   },
   "file_extension": ".py",
   "mimetype": "text/x-python",
   "name": "python",
   "nbconvert_exporter": "python",
   "pygments_lexer": "ipython3",
   "version": "3.6.5"
  }
 },
 "nbformat": 4,
 "nbformat_minor": 2
}
