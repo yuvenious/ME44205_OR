{
 "cells": [
  {
   "cell_type": "code",
   "execution_count": 1,
   "metadata": {},
   "outputs": [],
   "source": [
    "import itertools as it\n",
    "from gurobipy import *"
   ]
  },
  {
   "cell_type": "markdown",
   "metadata": {},
   "source": [
    "## Wyndor_Case"
   ]
  },
  {
   "cell_type": "code",
   "execution_count": 2,
   "metadata": {},
   "outputs": [
    {
     "name": "stdout",
     "output_type": "stream",
     "text": [
      "Academic license - for non-commercial use only\n"
     ]
    }
   ],
   "source": [
    "m = Model(\"Wyndor_Case\")"
   ]
  },
  {
   "cell_type": "code",
   "execution_count": 3,
   "metadata": {},
   "outputs": [],
   "source": [
    "x1 = m.addVar(vtype=GRB.CONTINUOUS, name = \"x1\")\n",
    "x2 = m.addVar(vtype=GRB.CONTINUOUS, name = \"x2\")"
   ]
  },
  {
   "cell_type": "code",
   "execution_count": 4,
   "metadata": {},
   "outputs": [],
   "source": [
    "m.setObjective(3*x1 + 5*x2, GRB.MAXIMIZE)\n",
    "m.addConstr(x1 <= 4, \"c0\")\n",
    "m.addConstr(2*x2 <= 12, \"c1\")\n",
    "m.addConstr(3*x1 + 2*x2 <= 18, \"c2\")\n",
    "m.update()"
   ]
  },
  {
   "cell_type": "code",
   "execution_count": 5,
   "metadata": {},
   "outputs": [
    {
     "name": "stdout",
     "output_type": "stream",
     "text": [
      "Optimize a model with 3 rows, 2 columns and 4 nonzeros\n",
      "Coefficient statistics:\n",
      "  Matrix range     [1e+00, 3e+00]\n",
      "  Objective range  [3e+00, 5e+00]\n",
      "  Bounds range     [0e+00, 0e+00]\n",
      "  RHS range        [4e+00, 2e+01]\n",
      "Presolve removed 2 rows and 0 columns\n",
      "Presolve time: 0.01s\n",
      "Presolved: 1 rows, 2 columns, 2 nonzeros\n",
      "\n",
      "Iteration    Objective       Primal Inf.    Dual Inf.      Time\n",
      "       0    4.5000000e+01   1.500000e+00   0.000000e+00      0s\n",
      "       1    3.6000000e+01   0.000000e+00   0.000000e+00      0s\n",
      "\n",
      "Solved in 1 iterations and 0.01 seconds\n",
      "Optimal objective  3.600000000e+01\n"
     ]
    }
   ],
   "source": [
    "m.optimize()"
   ]
  },
  {
   "cell_type": "code",
   "execution_count": 6,
   "metadata": {},
   "outputs": [
    {
     "name": "stdout",
     "output_type": "stream",
     "text": [
      "\n",
      "    Variable            x \n",
      "-------------------------\n",
      "          x1            2 \n",
      "          x2            6 \n"
     ]
    }
   ],
   "source": [
    "m.printAttr(\"x\", \"x*\")"
   ]
  }
 ],
 "metadata": {
  "kernelspec": {
   "display_name": "Python 3",
   "language": "python",
   "name": "python3"
  },
  "language_info": {
   "codemirror_mode": {
    "name": "ipython",
    "version": 3
   },
   "file_extension": ".py",
   "mimetype": "text/x-python",
   "name": "python",
   "nbconvert_exporter": "python",
   "pygments_lexer": "ipython3",
   "version": "3.6.5"
  }
 },
 "nbformat": 4,
 "nbformat_minor": 2
}
