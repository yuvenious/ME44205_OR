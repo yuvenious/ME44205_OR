{
 "cells": [
  {
   "cell_type": "code",
   "execution_count": 1,
   "metadata": {},
   "outputs": [],
   "source": [
    "import itertools as it\n",
    "from gurobipy import *"
   ]
  },
  {
   "cell_type": "markdown",
   "metadata": {},
   "source": [
    "## Wyndor_Case"
   ]
  },
  {
   "cell_type": "code",
   "execution_count": 2,
   "metadata": {},
   "outputs": [],
   "source": [
    "m = Model(\"Wyndor_Case\")"
   ]
  },
  {
   "cell_type": "code",
   "execution_count": 3,
   "metadata": {},
   "outputs": [],
   "source": [
    "x1 = m.addVar(vtype=GRB.CONTINUOUS, name = \"x1\")\n",
    "x2 = m.addVar(vtype=GRB.CONTINUOUS, name = \"x2\")"
   ]
  },
  {
   "cell_type": "code",
   "execution_count": 4,
   "metadata": {},
   "outputs": [],
   "source": [
    "m.setObjective(3*x1 + 5*x2, GRB.MAXIMIZE)\n",
    "m.addConstr(x1 <= 4, \"c0\")\n",
    "m.addConstr(2*x2 <= 12, \"c1\")\n",
    "m.addConstr(3*x1 + 2*x2 <= 18, \"c2\")\n",
    "m.update()"
   ]
  },
  {
   "cell_type": "code",
   "execution_count": 5,
   "metadata": {},
   "outputs": [
    {
     "name": "stdout",
     "output_type": "stream",
     "text": [
      "Optimize a model with 3 rows, 2 columns and 4 nonzeros\n",
      "Coefficient statistics:\n",
      "  Matrix range     [1e+00, 3e+00]\n",
      "  Objective range  [3e+00, 5e+00]\n",
      "  Bounds range     [0e+00, 0e+00]\n",
      "  RHS range        [4e+00, 2e+01]\n",
      "Presolve removed 2 rows and 0 columns\n",
      "Presolve time: 0.01s\n",
      "Presolved: 1 rows, 2 columns, 2 nonzeros\n",
      "\n",
      "Iteration    Objective       Primal Inf.    Dual Inf.      Time\n",
      "       0    4.5000000e+01   1.500000e+00   0.000000e+00      0s\n",
      "       1    3.6000000e+01   0.000000e+00   0.000000e+00      0s\n",
      "\n",
      "Solved in 1 iterations and 0.02 seconds\n",
      "Optimal objective  3.600000000e+01\n"
     ]
    }
   ],
   "source": [
    "m.optimize()"
   ]
  },
  {
   "cell_type": "code",
   "execution_count": 6,
   "metadata": {},
   "outputs": [
    {
     "name": "stdout",
     "output_type": "stream",
     "text": [
      "\n",
      "    Variable            x \n",
      "-------------------------\n",
      "          x1            2 \n",
      "          x2            6 \n"
     ]
    }
   ],
   "source": [
    "m.printAttr(\"x\", \"x*\")"
   ]
  },
  {
   "cell_type": "markdown",
   "metadata": {},
   "source": [
    "# Larger problem - Blending, Oil refine and Food process Case"
   ]
  },
  {
   "cell_type": "markdown",
   "metadata": {},
   "source": [
    "## Problem formulation\n",
    "\n",
    "### Description\n",
    "There is a company which **produces a certain product** by **refining 5 kinds of raw oils** (VEG1, VEG2, OIL1, OIL2, OIL3) and processing them. Here, VEG means vegetable based and OIL means non-vegetable based oil. The sales price is fixed (150) while the purchasing price of raw oils varies (rises/falls) over time. (see the table below.)\n",
    "\n",
    "|Month|VEG1|VEG2|OIL1|OIL2|OIL3|\n",
    "|-|-|-|-|-|\n",
    "|January|110|120|130|110|115|\n",
    "|February|130|130|110|90|115|\n",
    "|March|110|140|130|100|95|\n",
    "|May|100|120|150|110|105|\n",
    "|June|90|100|140|80|135|\n",
    "\n",
    "There is a certain **limit of amount the company can refine** the raw oils. It is upto 250 for vegetable oils (VEG1 and VEG2) and 200 for non-vegetable oils (OIL1, OIL2 and OIL3) respectively.\n",
    "\n",
    "The company may **store the raw oils** purchased in order to refine them next month. In this case, the cost for the storage is 5. Every initial value of stored raw oil is 500 for all 5 oils and this value must stay as same at the end of June.\n",
    "\n",
    "The company can also make its own decision about the **blending ratio of raw oils**, however a requirement does exist. It is that the **hardness** of the final product shall be between 3 and 6. The hardness of the final product can be linearly calculated from the raw oil used. The hardness of raw oil is also given below.\n",
    "\n",
    "|Raw Oil|VEG1|VEG2|OIL1|OIL2|OIL3|\n",
    "|-|-|-|-|-|\n",
    "|Hardness|8.8|6.1|2.0|4.2|5.0|\n",
    "\n",
    "Under the above conditions, the company wants to know the best plan/strategy/decision to maximize the profit."
   ]
  },
  {
   "cell_type": "markdown",
   "metadata": {},
   "source": [
    "### Conceptualisation & Formalisation\n",
    "- OR is about \"allocating limited resources to competing activities in optimal way which makes the objective most desirable.\"\n",
    "- Always bear in mind: What activities, resources and objective are there?"
   ]
  },
  {
   "cell_type": "code",
   "execution_count": 7,
   "metadata": {},
   "outputs": [],
   "source": [
    "# instantiate model\n",
    "m = Model(\"Oil_food\")"
   ]
  },
  {
   "cell_type": "markdown",
   "metadata": {},
   "source": [
    "#### Decision Variables: Determine the Level of Actitivities\n",
    "First, the company can 1) buy 2) refine and 3) store raw oils for each month. The level of activity (decision variable) means:\n",
    "- which kind and how much raw oils to buy?\n",
    "- which kind and how much raw oils to refine?\n",
    "- which kind and how much raw oils to store? (for next month)\n",
    "\n",
    "These 3 (buy/refine/store) activities are defined for every month (January, February, March, April, May and June.), for every oil (VEG1, VEG2, OIL1, OIL2, OIL3). Therefore, we may define 90 (5 kinds × 6 months × 3 activities) decision variables. \n",
    "\n",
    "$$B_{month, oil}$$\n",
    "$$R_{month, oil}$$\n",
    "$$S_{month, oil}$$\n",
    "$Here,$\n",
    "\n",
    "$$month \\in \\{Jan, Feb, Mar, Apr, May, Jun\\}$$\n",
    "$$oil \\in \\{VEG1, VEG2, OIL1, OIL2, OIL3\\}$$"
   ]
  },
  {
   "cell_type": "code",
   "execution_count": 8,
   "metadata": {},
   "outputs": [],
   "source": [
    "time_periods = [\"Jan\", \"Feb\", \"Mar\", \"Apr\", \"May\", \"Jun\"]\n",
    "oils = [\"VEG1\", \"VEG2\", \"OIL1\", \"OIL2\", \"OIL3\"]\n",
    "\n",
    "# add variables with using subscript\n",
    "buy = m.addVars(time_periods, oils, name = \"Buy\")\n",
    "refine = m.addVars(time_periods, oils, name = \"Refine\")\n",
    "store = m.addVars(time_periods, oils, name = \"Store\")"
   ]
  },
  {
   "cell_type": "markdown",
   "metadata": {},
   "source": [
    "Additionally, given the raw oils refined (with a certain combination), it can 4) produce the product for each month. Again the level of activity means:\n",
    "- How much to produce?\n",
    "\n",
    "This activity is also defined for every month, hence 6 additioanl decision variables are defined.\n",
    "\n",
    "$$P_{month}$$"
   ]
  },
  {
   "cell_type": "code",
   "execution_count": 9,
   "metadata": {},
   "outputs": [],
   "source": [
    "produce = m.addVars(time_periods, name = \"Produce\")\n",
    "m.update()"
   ]
  },
  {
   "cell_type": "markdown",
   "metadata": {},
   "source": [
    "#### Constraints\n",
    "Second, what kind of resources the company has? (they serve as constraints.) There are some of them which are explicitly given:\n",
    "- The capacity of refining (200, 250)\n",
    "- Hardness requirement (3 ≤ hardness ≤ 6)\n",
    "- Initial and Final storage\n",
    "\n",
    "(For each month) the sum of refining vegetable oils (VEG1, 2) shouldn't exceed 200. Similarly, the sum of non-vegetable oils (OIL1, 2, 3) shouldn't exceed 250. For example, the refine in January for VEG1 and VEG2 cannot exceeed 200.\n",
    "\n",
    "$$R_{Jan, VEG1} + R_{Jan, VEG2} \\leq 200$$"
   ]
  },
  {
   "cell_type": "code",
   "execution_count": 10,
   "metadata": {},
   "outputs": [
    {
     "data": {
      "text/plain": [
       "[<gurobi.TempConstr: <gurobi.LinExpr: Refine[Jan,VEG1] + Refine[Jan,VEG2]> <= 200>,\n",
       " <gurobi.TempConstr: <gurobi.LinExpr: Refine[Feb,VEG1] + Refine[Feb,VEG2]> <= 200>,\n",
       " <gurobi.TempConstr: <gurobi.LinExpr: Refine[Mar,VEG1] + Refine[Mar,VEG2]> <= 200>,\n",
       " <gurobi.TempConstr: <gurobi.LinExpr: Refine[Apr,VEG1] + Refine[Apr,VEG2]> <= 200>,\n",
       " <gurobi.TempConstr: <gurobi.LinExpr: Refine[May,VEG1] + Refine[May,VEG2]> <= 200>,\n",
       " <gurobi.TempConstr: <gurobi.LinExpr: Refine[Jun,VEG1] + Refine[Jun,VEG2]> <= 200>]"
      ]
     },
     "execution_count": 10,
     "metadata": {},
     "output_type": "execute_result"
    }
   ],
   "source": [
    "vegLim = 200\n",
    "c11 = (quicksum(refine[time_period, oil] for oil in oils if \"VEG\" in oil) <= vegLim for time_period in time_periods)\n",
    "m.addConstrs(c11, \"vegLim\")\n",
    "list((quicksum(refine[time_period, oil] for oil in oils if \"VEG\" in oil) <= vegLim for time_period in time_periods))"
   ]
  },
  {
   "cell_type": "code",
   "execution_count": 11,
   "metadata": {},
   "outputs": [
    {
     "data": {
      "text/plain": [
       "{'Apr': <gurobi.Constr *Awaiting Model Update*>,\n",
       " 'Feb': <gurobi.Constr *Awaiting Model Update*>,\n",
       " 'Jan': <gurobi.Constr *Awaiting Model Update*>,\n",
       " 'Jun': <gurobi.Constr *Awaiting Model Update*>,\n",
       " 'Mar': <gurobi.Constr *Awaiting Model Update*>,\n",
       " 'May': <gurobi.Constr *Awaiting Model Update*>}"
      ]
     },
     "execution_count": 11,
     "metadata": {},
     "output_type": "execute_result"
    }
   ],
   "source": [
    "# same for non-vegetable oils\n",
    "oilLim = 250\n",
    "c12 = (quicksum(refine[time_period, oil] for oil in oils if \"OIL\" in oil) <= oilLim for time_period in time_periods)\n",
    "m.addConstrs(c12, \"oilLim\")"
   ]
  },
  {
   "cell_type": "markdown",
   "metadata": {},
   "source": [
    "And when the company produces, the result of blending 5 raw oils shall meet the hardness requirement (between 3 and 6) For example, the product of January the following condition should be met.\n",
    "\n",
    "$$3 \\times P_{Jan} \\leq 8.8 \\times R_{Jan, VEG1} + 6.1 \\times R_{Jan, VEG2} + 2.0 \\times R_{Jan, OIL1} + 4.2 \\times R_{Jan, OIL2} + 5.0 \\times R_{Jan, OIL3}\\} \\leq 6 \\times P_{Jan}$$"
   ]
  },
  {
   "cell_type": "code",
   "execution_count": 12,
   "metadata": {},
   "outputs": [
    {
     "data": {
      "text/plain": [
       "{'Apr': <gurobi.Constr *Awaiting Model Update*>,\n",
       " 'Feb': <gurobi.Constr *Awaiting Model Update*>,\n",
       " 'Jan': <gurobi.Constr *Awaiting Model Update*>,\n",
       " 'Jun': <gurobi.Constr *Awaiting Model Update*>,\n",
       " 'Mar': <gurobi.Constr *Awaiting Model Update*>,\n",
       " 'May': <gurobi.Constr *Awaiting Model Update*>}"
      ]
     },
     "execution_count": 12,
     "metadata": {},
     "output_type": "execute_result"
    }
   ],
   "source": [
    "hardness = [8.8, 6.1, 2.0, 4.2, 5.0]\n",
    "hardness = dict(zip(oils, hardness))\n",
    "hardLower = 3\n",
    "hardUpper = 6\n",
    "\n",
    "c21 = (\n",
    "    quicksum(hardness[oil] * refine[time_period, oil] for oil in oils) \n",
    "    >= hardLower*produce[time_period] for time_period in time_periods\n",
    ")\n",
    "c22 = (\n",
    "    quicksum(hardness[oil] * refine[time_period, oil] for oil in oils) \n",
    "    <= hardUpper*produce[time_period] for time_period in time_periods\n",
    ")\n",
    "m.addConstrs(c21, \"hardLower\")\n",
    "m.addConstrs(c22, \"hardUpper\")"
   ]
  },
  {
   "cell_type": "markdown",
   "metadata": {},
   "source": [
    "Plus, the initial and final storage gives following constraints.\n",
    "$$500 + B_{Jan, oil} = R_{Jan, oil} + S_{Jan, oil}$$\n",
    "$$S_{May, oil} + B_{May, oil} = R_{May, oil} + 500$$"
   ]
  },
  {
   "cell_type": "code",
   "execution_count": 13,
   "metadata": {},
   "outputs": [
    {
     "data": {
      "text/plain": [
       "{'OIL1': <gurobi.Constr *Awaiting Model Update*>,\n",
       " 'OIL2': <gurobi.Constr *Awaiting Model Update*>,\n",
       " 'OIL3': <gurobi.Constr *Awaiting Model Update*>,\n",
       " 'VEG1': <gurobi.Constr *Awaiting Model Update*>,\n",
       " 'VEG2': <gurobi.Constr *Awaiting Model Update*>}"
      ]
     },
     "execution_count": 13,
     "metadata": {},
     "output_type": "execute_result"
    }
   ],
   "source": [
    "initStore = 500\n",
    "lastStore = initStore\n",
    "\n",
    "c31 = (initStore + buy[time_periods[0], oil] ==\n",
    "     refine[time_periods[0], oil] + store[time_periods[0], oil]\n",
    "     for oil in oils)\n",
    "m.addConstrs(c31, \"initStore\")\n",
    "c32 = (\n",
    "    store[time_periods[-1], oil]  == lastStore\n",
    "    for oil in oils\n",
    ")\n",
    "m.addConstrs(c32, \"lastStore\")"
   ]
  },
  {
   "cell_type": "markdown",
   "metadata": {},
   "source": [
    "Moreover, there are some constraints which are implicitly given. (They may not sound really a \"resource\" of the company intuitively, nevertheless serve as constraints of the LP model.)\n",
    "- The balance between buy, refine, store. (Last month Store + This month Buy = This month Refine + This month Store)\n",
    "$$ S_{month - 1, oil} + B_{month, oil} = R_{month, oil} + S_{month, oil} $$"
   ]
  },
  {
   "cell_type": "code",
   "execution_count": 14,
   "metadata": {
    "scrolled": true
   },
   "outputs": [
    {
     "data": {
      "text/plain": [
       "{('OIL1', 'Apr'): <gurobi.Constr *Awaiting Model Update*>,\n",
       " ('OIL1', 'Feb'): <gurobi.Constr *Awaiting Model Update*>,\n",
       " ('OIL1', 'Jun'): <gurobi.Constr *Awaiting Model Update*>,\n",
       " ('OIL1', 'Mar'): <gurobi.Constr *Awaiting Model Update*>,\n",
       " ('OIL1', 'May'): <gurobi.Constr *Awaiting Model Update*>,\n",
       " ('OIL2', 'Apr'): <gurobi.Constr *Awaiting Model Update*>,\n",
       " ('OIL2', 'Feb'): <gurobi.Constr *Awaiting Model Update*>,\n",
       " ('OIL2', 'Jun'): <gurobi.Constr *Awaiting Model Update*>,\n",
       " ('OIL2', 'Mar'): <gurobi.Constr *Awaiting Model Update*>,\n",
       " ('OIL2', 'May'): <gurobi.Constr *Awaiting Model Update*>,\n",
       " ('OIL3', 'Apr'): <gurobi.Constr *Awaiting Model Update*>,\n",
       " ('OIL3', 'Feb'): <gurobi.Constr *Awaiting Model Update*>,\n",
       " ('OIL3', 'Jun'): <gurobi.Constr *Awaiting Model Update*>,\n",
       " ('OIL3', 'Mar'): <gurobi.Constr *Awaiting Model Update*>,\n",
       " ('OIL3', 'May'): <gurobi.Constr *Awaiting Model Update*>,\n",
       " ('VEG1', 'Apr'): <gurobi.Constr *Awaiting Model Update*>,\n",
       " ('VEG1', 'Feb'): <gurobi.Constr *Awaiting Model Update*>,\n",
       " ('VEG1', 'Jun'): <gurobi.Constr *Awaiting Model Update*>,\n",
       " ('VEG1', 'Mar'): <gurobi.Constr *Awaiting Model Update*>,\n",
       " ('VEG1', 'May'): <gurobi.Constr *Awaiting Model Update*>,\n",
       " ('VEG2', 'Apr'): <gurobi.Constr *Awaiting Model Update*>,\n",
       " ('VEG2', 'Feb'): <gurobi.Constr *Awaiting Model Update*>,\n",
       " ('VEG2', 'Jun'): <gurobi.Constr *Awaiting Model Update*>,\n",
       " ('VEG2', 'Mar'): <gurobi.Constr *Awaiting Model Update*>,\n",
       " ('VEG2', 'May'): <gurobi.Constr *Awaiting Model Update*>}"
      ]
     },
     "execution_count": 14,
     "metadata": {},
     "output_type": "execute_result"
    }
   ],
   "source": [
    "# previous month storage + buy = refine + store\n",
    "c33 = (\n",
    "    store[time_periods[time_periods.index(time_period) - 1], oil]\n",
    "    + buy[time_period, oil] ==\n",
    "    refine[time_period, oil] + store[time_period, oil]\n",
    "    for oil in oils\n",
    "    for time_period in time_periods if time_period != time_periods[0]\n",
    ")\n",
    "m.addConstrs(c33, \"StoreBalance\")"
   ]
  },
  {
   "cell_type": "markdown",
   "metadata": {},
   "source": [
    "- The balance between refine (5 oils) and final product. (Produce 500 → Refine 5 kinds of oils also sum up to 500)\n",
    "$$ P_{month - 1, oil} + B_{month, oil} = R_{month, oil} + S_{month, oil} $$"
   ]
  },
  {
   "cell_type": "code",
   "execution_count": 15,
   "metadata": {},
   "outputs": [
    {
     "data": {
      "text/plain": [
       "{'Apr': <gurobi.Constr *Awaiting Model Update*>,\n",
       " 'Feb': <gurobi.Constr *Awaiting Model Update*>,\n",
       " 'Jan': <gurobi.Constr *Awaiting Model Update*>,\n",
       " 'Jun': <gurobi.Constr *Awaiting Model Update*>,\n",
       " 'Mar': <gurobi.Constr *Awaiting Model Update*>,\n",
       " 'May': <gurobi.Constr *Awaiting Model Update*>}"
      ]
     },
     "execution_count": 15,
     "metadata": {},
     "output_type": "execute_result"
    }
   ],
   "source": [
    "c4 = (\n",
    "    refine.sum(time_period) == produce[time_period]\n",
    "    for time_period in time_periods\n",
    ")\n",
    "m.addConstrs(c4, \"Conserve\")"
   ]
  },
  {
   "cell_type": "markdown",
   "metadata": {},
   "source": [
    "Finally, what is the objective the company wants to achieve? Of course it is a profit which should be maximized. How the profit is determined?\n",
    "\n",
    "$$Total Profit = SalesRevenue - CostBuying - CostStoring$$\n"
   ]
  },
  {
   "cell_type": "code",
   "execution_count": 16,
   "metadata": {},
   "outputs": [],
   "source": [
    "priceStore = 5\n",
    "saleprice = 150\n",
    "prices = [110, 120, 130, 110, 115,\n",
    "          130, 130, 110, 90, 115,\n",
    "          110, 140, 130, 100, 95,\n",
    "          120, 110, 120, 120, 125,\n",
    "          100, 120, 150, 110, 105,\n",
    "          90, 100, 140, 80, 135]\n",
    "prices = dict(zip(list(it.product(time_periods, oils)), prices))\n",
    "\n",
    "# sales\n",
    "sales = saleprice * produce.sum()\n",
    "# cost for purchasing raw oil (buy)\n",
    "cost_purchase = buy.prod(prices)\n",
    "# cost for storing\n",
    "cost_store = priceStore * store.sum()\n",
    "objective_func = sales - cost_purchase - cost_store\n",
    "m.setObjective(objective_func, GRB.MAXIMIZE)"
   ]
  },
  {
   "cell_type": "code",
   "execution_count": 17,
   "metadata": {
    "scrolled": true
   },
   "outputs": [
    {
     "name": "stdout",
     "output_type": "stream",
     "text": [
      "Optimize a model with 65 rows, 96 columns and 258 nonzeros\n",
      "Coefficient statistics:\n",
      "  Matrix range     [1e+00, 9e+00]\n",
      "  Objective range  [5e+00, 2e+02]\n",
      "  Bounds range     [0e+00, 0e+00]\n",
      "  RHS range        [2e+02, 5e+02]\n",
      "Presolve removed 28 rows and 45 columns\n",
      "Presolve time: 0.01s\n",
      "Presolved: 37 rows, 51 columns, 149 nonzeros\n",
      "\n",
      "Iteration    Objective       Primal Inf.    Dual Inf.      Time\n",
      "       0    3.7425000e+05   1.065625e+03   0.000000e+00      0s\n",
      "      28    1.0784259e+05   0.000000e+00   0.000000e+00      0s\n",
      "\n",
      "Solved in 28 iterations and 0.02 seconds\n",
      "Optimal objective  1.078425926e+05\n",
      "Buy[Feb,OIL2] : 250.0\n",
      "Buy[May,OIL3] : 500.0\n",
      "Buy[Jun,VEG1] : 659.2592592592592\n",
      "Buy[Jun,VEG2] : 540.7407407407408\n",
      "Buy[Jun,OIL2] : 750.0\n",
      "Refine[Jan,VEG1] : 85.18518518518519\n",
      "Refine[Jan,VEG2] : 114.81481481481481\n",
      "Refine[Jan,OIL3] : 250.0\n",
      "Refine[Feb,VEG2] : 200.0\n",
      "Refine[Feb,OIL3] : 250.0\n",
      "Refine[Mar,VEG1] : 159.25925925925924\n",
      "Refine[Mar,VEG2] : 40.74074074074077\n",
      "Refine[Mar,OIL2] : 250.0\n",
      "Refine[Apr,VEG1] : 159.25925925925924\n",
      "Refine[Apr,VEG2] : 40.74074074074077\n",
      "Refine[Apr,OIL2] : 250.0\n",
      "Refine[May,VEG1] : 96.2962962962963\n",
      "Refine[May,VEG2] : 103.7037037037037\n",
      "Refine[May,OIL2] : 250.0\n",
      "Refine[Jun,VEG1] : 159.25925925925924\n",
      "Refine[Jun,VEG2] : 40.74074074074077\n",
      "Refine[Jun,OIL2] : 250.0\n",
      "Store[Jan,VEG1] : 414.8148148148148\n",
      "Store[Jan,VEG2] : 385.1851851851852\n",
      "Store[Jan,OIL1] : 500.0\n",
      "Store[Jan,OIL2] : 500.0\n",
      "Store[Jan,OIL3] : 250.0\n",
      "Store[Feb,VEG1] : 414.8148148148148\n",
      "Store[Feb,VEG2] : 185.18518518518522\n",
      "Store[Feb,OIL1] : 500.0\n",
      "Store[Feb,OIL2] : 750.0\n",
      "Store[Mar,VEG1] : 255.55555555555554\n",
      "Store[Mar,VEG2] : 144.44444444444446\n",
      "Store[Mar,OIL1] : 500.0\n",
      "Store[Mar,OIL2] : 500.0\n",
      "Store[Apr,VEG1] : 96.2962962962963\n",
      "Store[Apr,VEG2] : 103.7037037037037\n",
      "Store[Apr,OIL1] : 500.0\n",
      "Store[Apr,OIL2] : 250.0\n",
      "Store[May,OIL1] : 500.0\n",
      "Store[May,OIL3] : 500.0\n",
      "Store[Jun,VEG1] : 500.0\n",
      "Store[Jun,VEG2] : 500.0\n",
      "Store[Jun,OIL1] : 500.0\n",
      "Store[Jun,OIL2] : 500.0\n",
      "Store[Jun,OIL3] : 500.0\n",
      "Produce[Jan] : 450.0\n",
      "Produce[Feb] : 450.0\n",
      "Produce[Mar] : 450.0\n",
      "Produce[Apr] : 450.0\n",
      "Produce[May] : 450.0\n",
      "Produce[Jun] : 450.0\n"
     ]
    }
   ],
   "source": [
    "# optimize and result\n",
    "m.optimize()\n",
    "for v in m.getVars():\n",
    "    if v.X != 0:\n",
    "        print(v.VarName, \":\", v.X)"
   ]
  },
  {
   "cell_type": "markdown",
   "metadata": {},
   "source": [
    "## Entire Code"
   ]
  },
  {
   "cell_type": "code",
   "execution_count": 18,
   "metadata": {
    "scrolled": true
   },
   "outputs": [
    {
     "name": "stdout",
     "output_type": "stream",
     "text": [
      "Optimize a model with 65 rows, 96 columns and 258 nonzeros\n",
      "Coefficient statistics:\n",
      "  Matrix range     [1e+00, 9e+00]\n",
      "  Objective range  [5e+00, 2e+02]\n",
      "  Bounds range     [0e+00, 0e+00]\n",
      "  RHS range        [2e+02, 5e+02]\n",
      "Presolve removed 28 rows and 45 columns\n",
      "Presolve time: 0.02s\n",
      "Presolved: 37 rows, 51 columns, 149 nonzeros\n",
      "\n",
      "Iteration    Objective       Primal Inf.    Dual Inf.      Time\n",
      "       0    3.7425000e+05   1.065625e+03   0.000000e+00      0s\n",
      "      28    1.0784259e+05   0.000000e+00   0.000000e+00      0s\n",
      "\n",
      "Solved in 28 iterations and 0.04 seconds\n",
      "Optimal objective  1.078425926e+05\n",
      "Buy[Feb,OIL2] : 250.0\n",
      "Buy[May,OIL3] : 500.0\n",
      "Buy[Jun,VEG1] : 659.2592592592592\n",
      "Buy[Jun,VEG2] : 540.7407407407408\n",
      "Buy[Jun,OIL2] : 750.0\n",
      "Refine[Jan,VEG1] : 85.18518518518519\n",
      "Refine[Jan,VEG2] : 114.81481481481481\n",
      "Refine[Jan,OIL3] : 250.0\n",
      "Refine[Feb,VEG2] : 200.0\n",
      "Refine[Feb,OIL3] : 250.0\n",
      "Refine[Mar,VEG1] : 159.25925925925924\n",
      "Refine[Mar,VEG2] : 40.74074074074077\n",
      "Refine[Mar,OIL2] : 250.0\n",
      "Refine[Apr,VEG1] : 159.25925925925924\n",
      "Refine[Apr,VEG2] : 40.74074074074077\n",
      "Refine[Apr,OIL2] : 250.0\n",
      "Refine[May,VEG1] : 96.2962962962963\n",
      "Refine[May,VEG2] : 103.7037037037037\n",
      "Refine[May,OIL2] : 250.0\n",
      "Refine[Jun,VEG1] : 159.25925925925924\n",
      "Refine[Jun,VEG2] : 40.74074074074077\n",
      "Refine[Jun,OIL2] : 250.0\n",
      "Produce[Jan] : 450.0\n",
      "Produce[Feb] : 450.0\n",
      "Produce[Mar] : 450.0\n",
      "Produce[Apr] : 450.0\n",
      "Produce[May] : 450.0\n",
      "Produce[Jun] : 450.0\n",
      "Store[Jan,VEG1] : 414.8148148148148\n",
      "Store[Jan,VEG2] : 385.1851851851852\n",
      "Store[Jan,OIL1] : 500.0\n",
      "Store[Jan,OIL2] : 500.0\n",
      "Store[Jan,OIL3] : 250.0\n",
      "Store[Feb,VEG1] : 414.8148148148148\n",
      "Store[Feb,VEG2] : 185.18518518518522\n",
      "Store[Feb,OIL1] : 500.0\n",
      "Store[Feb,OIL2] : 750.0\n",
      "Store[Mar,VEG1] : 255.55555555555554\n",
      "Store[Mar,VEG2] : 144.44444444444446\n",
      "Store[Mar,OIL1] : 500.0\n",
      "Store[Mar,OIL2] : 500.0\n",
      "Store[Apr,VEG1] : 96.2962962962963\n",
      "Store[Apr,VEG2] : 103.7037037037037\n",
      "Store[Apr,OIL1] : 500.0\n",
      "Store[Apr,OIL2] : 250.0\n",
      "Store[May,OIL1] : 500.0\n",
      "Store[May,OIL3] : 500.0\n",
      "Store[Jun,VEG1] : 500.0\n",
      "Store[Jun,VEG2] : 500.0\n",
      "Store[Jun,OIL1] : 500.0\n",
      "Store[Jun,OIL2] : 500.0\n",
      "Store[Jun,OIL3] : 500.0\n"
     ]
    }
   ],
   "source": [
    "# Set parameters\n",
    "oils = [\"VEG1\", \"VEG2\", \"OIL1\", \"OIL2\", \"OIL3\"]\n",
    "time_periods = [\"Jan\", \"Feb\", \"Mar\", \"Apr\", \"May\", \"Jun\"]\n",
    "\n",
    "vegLim = 200\n",
    "oilLim = 250\n",
    "\n",
    "hardness = [8.8, 6.1, 2.0, 4.2, 5.0]\n",
    "hardness = dict(zip(oils, hardness))\n",
    "hardUpper = 6\n",
    "hardLower = 3\n",
    "\n",
    "initStore = 500\n",
    "LastStore = initStore\n",
    "\n",
    "priceStore = 5\n",
    "saleprice = 150\n",
    "prices = [110, 120, 130, 110, 115,\n",
    "          130, 130, 110, 90, 115,\n",
    "          110, 140, 130, 100, 95,\n",
    "          120, 110, 120, 120, 125,\n",
    "          100, 120, 150, 110, 105,\n",
    "          90, 100, 140, 80, 135]\n",
    "prices = dict(zip(list(it.product(time_periods, oils)), prices))\n",
    "\n",
    "# instantiate model\n",
    "m = Model(\"Oil_food\")\n",
    "\n",
    "# set variables with using subscript\n",
    "buy = m.addVars(time_periods, oils, name = \"Buy\")\n",
    "refine = m.addVars(time_periods, oils, name = \"Refine\")\n",
    "produce = m.addVars(time_periods, name = \"Produce\")\n",
    "store = m.addVars(time_periods, oils, name = \"Store\")\n",
    "\n",
    "# set constraints\n",
    "c11 = (\n",
    "    quicksum(refine[time_period, oil] for oil in oils if \"VEG\" in oil)\n",
    "    <= vegLim for time_period in time_periods\n",
    ")\n",
    "c12 = (\n",
    "    quicksum(refine[time_period, oil] for oil in oils if \"OIL\" in oil)\n",
    "    <= oilLim for time_period in time_periods\n",
    ")\n",
    "m.addConstrs(c11, \"vegLim\")\n",
    "m.addConstrs(c12, \"oilLim\")\n",
    "\n",
    "c21 = (\n",
    "    quicksum(hardness[oil] * refine[time_period, oil] for oil in oils) \n",
    "    >= hardLower*produce[time_period] for time_period in time_periods\n",
    ")\n",
    "c22 = (\n",
    "    quicksum(hardness[oil] * refine[time_period, oil] for oil in oils) \n",
    "    <= hardUpper*produce[time_period] for time_period in time_periods\n",
    ")\n",
    "m.addConstrs(c21, \"hardLower\")\n",
    "m.addConstrs(c22, \"hardUpper\")\n",
    "\n",
    "c31 = (initStore + buy[time_periods[0], oil] ==\n",
    "     refine[time_periods[0], oil] + store[time_periods[0], oil]\n",
    "     for oil in oils)\n",
    "c32 = (\n",
    "    store[time_periods[-1], oil]  == lastStore\n",
    "    for oil in oils\n",
    ")\n",
    "m.addConstrs(c31, \"initStore\")\n",
    "m.addConstrs(c32, \"lastStore\")\n",
    "\n",
    "c33 = (\n",
    "    store[time_periods[time_periods.index(time_period) - 1], oil]\n",
    "    + buy[time_period, oil] ==\n",
    "    refine[time_period, oil] + store[time_period, oil]\n",
    "    for oil in oils\n",
    "    for time_period in time_periods if time_period != time_periods[0]\n",
    ")\n",
    "m.addConstrs(c33, \"StoreBalance\")\n",
    "\n",
    "c4 = (\n",
    "    refine.sum(time_period) == produce[time_period]\n",
    "    for time_period in time_periods\n",
    ")\n",
    "m.addConstrs(c4, \"Conserve\")\n",
    "\n",
    "# Optimize\n",
    "sales = saleprice * produce.sum()\n",
    "cost_purchase = buy.prod(prices)\n",
    "cost_store = priceStore * store.sum()\n",
    "objective_func = sales - cost_purchase - cost_store\n",
    "\n",
    "m.setObjective(objective_func, GRB.MAXIMIZE)\n",
    "m.optimize()\n",
    "for v in m.getVars():\n",
    "    if v.X != 0:\n",
    "        print(v.VarName, \":\", v.X)"
   ]
  }
 ],
 "metadata": {
  "kernelspec": {
   "display_name": "Python 3",
   "language": "python",
   "name": "python3"
  },
  "language_info": {
   "codemirror_mode": {
    "name": "ipython",
    "version": 3
   },
   "file_extension": ".py",
   "mimetype": "text/x-python",
   "name": "python",
   "nbconvert_exporter": "python",
   "pygments_lexer": "ipython3",
   "version": "3.6.4"
  }
 },
 "nbformat": 4,
 "nbformat_minor": 2
}
